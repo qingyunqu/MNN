{
 "metadata": {
  "language_info": {
   "codemirror_mode": {
    "name": "ipython",
    "version": 3
   },
   "file_extension": ".py",
   "mimetype": "text/x-python",
   "name": "python",
   "nbconvert_exporter": "python",
   "pygments_lexer": "ipython3",
   "version": "3.8.3-final"
  },
  "orig_nbformat": 2,
  "kernelspec": {
   "name": "python3",
   "display_name": "Python 3.8.3 64-bit ('base': conda)",
   "metadata": {
    "interpreter": {
     "hash": "343844193ad9896a0364ed42330c14d29d36405516a1ec7d9d95b91a5f830ba8"
    }
   }
  }
 },
 "nbformat": 4,
 "nbformat_minor": 2,
 "cells": [
  {
   "cell_type": "code",
   "execution_count": 227,
   "metadata": {},
   "outputs": [
    {
     "output_type": "execute_result",
     "data": {
      "text/plain": [
       "'1.18.5'"
      ]
     },
     "metadata": {},
     "execution_count": 227
    }
   ],
   "source": [
    "import pandas as pd\n",
    "import sys\n",
    "import numpy as np\n",
    "np.__version__"
   ]
  },
  {
   "cell_type": "code",
   "execution_count": 228,
   "metadata": {},
   "outputs": [
    {
     "output_type": "stream",
     "name": "stdout",
     "text": [
      "[1, 2, 4, 8, 16]\n"
     ]
    }
   ],
   "source": [
    "# # set parameters\n",
    "# para_num = len(sys.argv) # para_num check\n",
    "# if para_num != 2:\n",
    "#     print(\"usage: ./dataprocess.py DeviceName NetName\")\n",
    "#     sys.exit(0)\n",
    "\n",
    "# DeviceName = sys.argv[0]\n",
    "# NetNamenum = sys.argv[1]\n",
    "\n",
    "DeviceName = \"MEIZU_1_h\"\n",
    "net = [\"Lenet\", \"GoogLenet\", \"Squeezenet\", \"Alexnet\", \"Mobilenet\"]\n",
    "\n",
    "NetNamenum = 3\n",
    "NetName = net[NetNamenum]\n",
    "# NetName = \"Mobilenet\"\n",
    "\n",
    "BatchSize = [16]\n",
    "#BatchSize = [1, 2, 3, 4, 5, 6, 7, 8]\n",
    "print(BatchSize)\n",
    "\n",
    "path_to_usage_monitor = \"./\" + DeviceName + \"/usage_monitor/usage_monitor_\" + NetName + \".result\"\n",
    "path_to_expr_bench = \"./\" + DeviceName + \"/train_bench/train_bench_\" + NetName + \".result\"\n",
    "path_to_session_bench = \"./\" + DeviceName + \"/bench_session.result\"\n",
    "path_to_freq = \"./freq.result\"\n",
    "\n",
    "path_to_processed_data = \"./\" + DeviceName + \"/processed_data/\" + NetName + \"/processed_data_\" + NetName + \".csv\"\n",
    "path_to_time_table = \"./\" + DeviceName + \"/processed_data/\" + NetName + \"/time_table_\" + NetName + \".csv\"\n",
    "path_to_performance = \"./\" + DeviceName + \"/processed_data/\" + NetName + \"/performance_\" + NetName + \".csv\""
   ]
  },
  {
   "cell_type": "code",
   "execution_count": 229,
   "metadata": {
    "tags": []
   },
   "outputs": [],
   "source": [
    "# load raw data and extract their attributes into csv file\n",
    "raw_data = pd.read_table(path_to_usage_monitor, header=None, sep=\",\", engine='python')\n",
    "\n",
    "attributes= [\"stamp\", \"processPid\", \"VIRT\", \"RES\", \"SHR\", \"cpuUsage\", \\\n",
    "             \"battery_current\", \"battery_voltage\", \"usb_current\", \"usb_voltage\" ]\n",
    "processed_data = pd.DataFrame(index=attributes)\n",
    "\n",
    "data = pd.Series([\"nan\"]*10, attributes)\n",
    "\n",
    "count = 0\n",
    "for line in raw_data[0]:\n",
    "    if \"NEW DATA\" in line:\n",
    "        count = count + 1\n",
    "        data[\"stamp\"] = line.split()[2].split(\"N\")[0]\n",
    "    if \"battery_current\" in line:\n",
    "        data[\"battery_current\"] = line.split()[1]\n",
    "    if \"battery_voltage\" in line:\n",
    "        data[\"battery_voltage\"] = line.split()[1]\n",
    "    if \"usb_current\" in line:\n",
    "        data[\"usb_current\"] = line.split()[1]\n",
    "    if \"usb_voltage\" in line:\n",
    "        data[\"usb_voltage\"] = line.split()[1]\n",
    "    if \"status of pid\" in line:\n",
    "        data[\"processPid\"] = line.split()[3]\n",
    "    if \"shell\" in line:\n",
    "        temp = line.split()\n",
    "        shell_loc = temp.index(\"shell\")\n",
    "        data[\"VIRT\"] = line.split()[3+shell_loc]\n",
    "        if \"G\" in data[\"VIRT\"]: # 将G转化为M\n",
    "            data[\"VIRT\"] = str(float(data[\"VIRT\"].split(\"G\")[0])*1024) + \"M\"\n",
    "        data[\"RES\"] = line.split()[4+shell_loc]\n",
    "        if \"G\" in data[\"RES\"]: # 将G转化为M\n",
    "            data[\"RES\"] = str(float(data[\"RES\"].split(\"G\")[0])*1024) + \"M\"\n",
    "        data[\"SHR\"] = line.split()[5+shell_loc]\n",
    "        if \"G\" in data[\"SHR\"]: # 将G转化为M\n",
    "            data[\"SHR\"] = str(float(data[\"SHR\"].split(\"G\")[0])*1024) + \"M\"\n",
    "        data[\"cpuUsage\"] = line.split()[7+shell_loc]\n",
    "    if \"END\" in line:\n",
    "        processed_data[count] = data\n",
    "        data[:] = \"nan\"\n",
    "\n",
    "matrix = processed_data.T\n",
    "\n",
    "matrix.to_csv(path_to_processed_data)\n",
    "\n",
    "    "
   ]
  },
  {
   "cell_type": "code",
   "execution_count": 230,
   "metadata": {
    "tags": []
   },
   "outputs": [
    {
     "output_type": "stream",
     "name": "stdout",
     "text": [
      ".Mobilenet_1.mnn\n.Mobilenet_2.mnn\n.Mobilenet_4.mnn\n.Mobilenet_8.mnn\n.Mobilenet_16.mnn\n"
     ]
    }
   ],
   "source": [
    "# running time of expr (train + infer) and session (infer)\n",
    "expr_data = pd.read_table(path_to_expr_bench, header=None, delimiter=\"\\t\")\n",
    "#ession_data = pd.read_table(path_to_session_bench, header=None, delimiter=\"\\t\", engine='python')\n",
    "\n",
    "attributes= [\"batchsize\", \"expr_train\", \"expr_infer\", \"session_infer\"]\n",
    "time = pd.DataFrame(index=attributes)\n",
    "data = pd.Series([\"nan\"]*4, attributes)\n",
    "\n",
    "count = 0\n",
    "for batchsize in BatchSize:\n",
    "    count = count + 1\n",
    "    data[\"batchsize\"] = batchsize\n",
    "    keywords_expr = \"(batchsize is \" + str(batchsize) + \")\"\n",
    "    keywords_session = \".\" + NetName + \"_\" + str(batchsize) + \".mnn\"\n",
    "    print(keywords_session)\n",
    "    for line in expr_data[0]:\n",
    "        #print(type(line))\n",
    "        if keywords_expr in line:\n",
    "            if \"Training\" in line:\n",
    "                data[\"expr_train\"] = line.split()[6]\n",
    "            if \"Inferring\" in line:\n",
    "                data[\"expr_infer\"] = line.split()[6]\n",
    "    # for line in session_data[0]:\n",
    "    #     if keywords_session in line:\n",
    "            #data[\"session_infer\"] = line.split()[12].split(\"ms\")[0]\n",
    "    time[count] = data\n",
    "    data[:] = \"nan\"\n",
    "\n",
    "matrix = time.T\n",
    "matrix.to_csv(path_to_time_table)"
   ]
  },
  {
   "cell_type": "code",
   "execution_count": 231,
   "metadata": {},
   "outputs": [],
   "source": [
    "# read data from processed_data and analyse it with time_stamp\n",
    "processed_data = pd.read_table(path_to_processed_data, header=0, index_col=0, sep=\",\")\n",
    "attributes= [\"batchsize\", \"VIRT\", \"RES\", \"SHR\", \"cpuUsage_train\", \"cpuUsage_infer\",\\\n",
    "             \"battery_current\", \"battery_voltage\", \"usb_current\", \"usb_voltage\" ]\n",
    "performance = pd.DataFrame(index=attributes)\n",
    "perform_temp = pd.Series([0]*10, attributes) # 初始化性能值存储条\n",
    "\n",
    "# 记录训练、推断过程的时间戳\n",
    "trainStart = 0\n",
    "trainEnd = 0\n",
    "inferStart = 0\n",
    "inferEnd = 0\n",
    "\n",
    "num = 0\n",
    "for batchsize in BatchSize:\n",
    "    perform_temp[\"batchsize\"] = batchsize\n",
    "    num = num + 1\n",
    "    path_to_stamp = \"./\" + DeviceName + \"/train_stamp/\" + NetName + \"/\" + \"train_stamp_\" + str(batchsize) + \".result\" \n",
    "    data = pd.read_table(path_to_stamp, header=None, delimiter=\"\\t\")\n",
    "    for line in data[0]:\n",
    "        if \"Begin training\" in line:\n",
    "            trainStart = int(line.split()[3].split(\"N\")[0])\n",
    "        if \"End trainning\" in line:\n",
    "            trainEnd = int(line.split()[3].split(\"N\")[0])\n",
    "        if \"Begin inferring\" in line:\n",
    "            inferStart = int(line.split()[3].split(\"N\")[0])\n",
    "        if \"End inferring\" in line:\n",
    "            inferEnd = int(line.split()[3].split(\"N\")[0])\n",
    "\n",
    "    count = 0 # 用来记录一个阶段里出现的记录条数\n",
    "    for indexs in processed_data.index: # 按行对数据进行遍历\n",
    "        if int(processed_data.loc[indexs][\"stamp\"]) > trainStart and int(processed_data.loc[indexs][\"stamp\"]) < trainEnd:\n",
    "            if str(processed_data.loc[indexs][\"cpuUsage\"]) == \"nan\" or str(processed_data.loc[indexs][\"cpuUsage\"]) == \"R\": \n",
    "                continue\n",
    "            count = count + 1 \n",
    "            perform_temp[\"cpuUsage_train\"] = perform_temp[\"cpuUsage_train\"] + processed_data.loc[indexs][\"cpuUsage\"]\n",
    "            # 内存数据有M后缀，需处理一下\n",
    "            perform_temp[\"VIRT\"] = max (float(processed_data.loc[indexs][\"VIRT\"].split(\"M\")[0]), perform_temp[\"VIRT\"])\n",
    "            perform_temp[\"RES\"] = max (float(processed_data.loc[indexs][\"RES\"].split(\"M\")[0]), perform_temp[\"RES\"])\n",
    "            #perform_temp[\"SHR\"] = max (float(processed_data.loc[indexs][\"SHR\"].split(\"M\")[0]), perform_temp[\"SHR\"])\n",
    "            perform_temp[\"battery_current\"] = max (int(processed_data.loc[indexs][\"battery_current\"]), perform_temp[\"battery_current\"])\n",
    "            perform_temp[\"battery_voltage\"] = max (int(processed_data.loc[indexs][\"battery_voltage\"]), perform_temp[\"battery_voltage\"])\n",
    "            perform_temp[\"usb_current\"] = max (int(processed_data.loc[indexs][\"usb_current\"]), perform_temp[\"usb_current\"])\n",
    "            perform_temp[\"usb_voltage\"] = max (int(processed_data.loc[indexs][\"usb_voltage\"]), perform_temp[\"usb_voltage\"])\n",
    "    perform_temp[\"cpuUsage_train\"] = perform_temp[\"cpuUsage_train\"]/count\n",
    "\n",
    "    count = 0 \n",
    "    for indexs in processed_data.index: # 按行对数据进行遍历\n",
    "        if int(processed_data.loc[indexs][\"stamp\"]) > inferStart and int(processed_data.loc[indexs][\"stamp\"]) < inferEnd:\n",
    "            if str(processed_data.loc[indexs][\"VIRT\"]) == \"nan\": \n",
    "                continue\n",
    "            count = count + 1 \n",
    "            perform_temp[\"cpuUsage_infer\"] = perform_temp[\"cpuUsage_infer\"] + processed_data.loc[indexs][\"cpuUsage\"]\n",
    "            perform_temp[\"VIRT\"] = max (float(processed_data.loc[indexs][\"VIRT\"].split(\"M\")[0]), perform_temp[\"VIRT\"])\n",
    "            perform_temp[\"RES\"] = max (float(processed_data.loc[indexs][\"RES\"].split(\"M\")[0]), perform_temp[\"RES\"])\n",
    "            \n",
    "            #perform_temp[\"SHR\"] = max (float(processed_data.loc[indexs][\"SHR\"].split(\"M\")[0]), perform_temp[\"SHR\"])\n",
    "            #perform_temp[\"battery_current\"] = max (int(processed_data.loc[indexs][\"battery_current\"]), perform_temp[\"battery_current\"])\n",
    "            #perform_temp[\"battery_voltage\"] = max (int(processed_data.loc[indexs][\"battery_voltage\"]), perform_temp[\"battery_voltage\"])\n",
    "            #perform_temp[\"usb_current\"] = max (int(processed_data.loc[indexs][\"usb_current\"]), perform_temp[\"usb_current\"])\n",
    "            #perform_temp[\"usb_voltage\"] = max (int(processed_data.loc[indexs][\"usb_voltage\"]), perform_temp[\"usb_voltage\"])\n",
    "    perform_temp[\"cpuUsage_infer\"] = perform_temp[\"cpuUsage_infer\"]/count\n",
    "    \n",
    "    performance[num] = perform_temp\n",
    "    perform_temp[:] = 0\n",
    "\n",
    "    matrix = performance.T\n",
    "    matrix.to_csv(path_to_performance)"
   ]
  },
  {
   "cell_type": "code",
   "execution_count": 232,
   "metadata": {},
   "outputs": [
    {
     "output_type": "execute_result",
     "data": {
      "text/plain": [
       "   batchsize  VIRT  RES  SHR  cpuUsage_train  cpuUsage_infer  battery_current  \\\n",
       "1        1.0   0.0  0.0  0.0             NaN             NaN              0.0   \n",
       "2        2.0   0.0  0.0  0.0             NaN             NaN              0.0   \n",
       "3        4.0   0.0  0.0  0.0             NaN             NaN              0.0   \n",
       "4        8.0   0.0  0.0  0.0             NaN             NaN              0.0   \n",
       "5       16.0   0.0  0.0  0.0             NaN             NaN              0.0   \n",
       "\n",
       "   battery_voltage  usb_current  usb_voltage  \n",
       "1              0.0          0.0          0.0  \n",
       "2              0.0          0.0          0.0  \n",
       "3              0.0          0.0          0.0  \n",
       "4              0.0          0.0          0.0  \n",
       "5              0.0          0.0          0.0  "
      ],
      "text/html": "<div>\n<style scoped>\n    .dataframe tbody tr th:only-of-type {\n        vertical-align: middle;\n    }\n\n    .dataframe tbody tr th {\n        vertical-align: top;\n    }\n\n    .dataframe thead th {\n        text-align: right;\n    }\n</style>\n<table border=\"1\" class=\"dataframe\">\n  <thead>\n    <tr style=\"text-align: right;\">\n      <th></th>\n      <th>batchsize</th>\n      <th>VIRT</th>\n      <th>RES</th>\n      <th>SHR</th>\n      <th>cpuUsage_train</th>\n      <th>cpuUsage_infer</th>\n      <th>battery_current</th>\n      <th>battery_voltage</th>\n      <th>usb_current</th>\n      <th>usb_voltage</th>\n    </tr>\n  </thead>\n  <tbody>\n    <tr>\n      <th>1</th>\n      <td>1.0</td>\n      <td>0.0</td>\n      <td>0.0</td>\n      <td>0.0</td>\n      <td>NaN</td>\n      <td>NaN</td>\n      <td>0.0</td>\n      <td>0.0</td>\n      <td>0.0</td>\n      <td>0.0</td>\n    </tr>\n    <tr>\n      <th>2</th>\n      <td>2.0</td>\n      <td>0.0</td>\n      <td>0.0</td>\n      <td>0.0</td>\n      <td>NaN</td>\n      <td>NaN</td>\n      <td>0.0</td>\n      <td>0.0</td>\n      <td>0.0</td>\n      <td>0.0</td>\n    </tr>\n    <tr>\n      <th>3</th>\n      <td>4.0</td>\n      <td>0.0</td>\n      <td>0.0</td>\n      <td>0.0</td>\n      <td>NaN</td>\n      <td>NaN</td>\n      <td>0.0</td>\n      <td>0.0</td>\n      <td>0.0</td>\n      <td>0.0</td>\n    </tr>\n    <tr>\n      <th>4</th>\n      <td>8.0</td>\n      <td>0.0</td>\n      <td>0.0</td>\n      <td>0.0</td>\n      <td>NaN</td>\n      <td>NaN</td>\n      <td>0.0</td>\n      <td>0.0</td>\n      <td>0.0</td>\n      <td>0.0</td>\n    </tr>\n    <tr>\n      <th>5</th>\n      <td>16.0</td>\n      <td>0.0</td>\n      <td>0.0</td>\n      <td>0.0</td>\n      <td>NaN</td>\n      <td>NaN</td>\n      <td>0.0</td>\n      <td>0.0</td>\n      <td>0.0</td>\n      <td>0.0</td>\n    </tr>\n  </tbody>\n</table>\n</div>"
     },
     "metadata": {},
     "execution_count": 232
    }
   ],
   "source": [
    "matrix"
   ]
  },
  {
   "cell_type": "code",
   "execution_count": 233,
   "metadata": {},
   "outputs": [
    {
     "output_type": "execute_result",
     "data": {
      "text/plain": [
       "1617529897585"
      ]
     },
     "metadata": {},
     "execution_count": 233
    }
   ],
   "source": [
    "data = pd.read_table(path_to_processed_data, header=0, index_col=0, sep=\",\")\n",
    "data.loc[1][\"stamp\"]"
   ]
  },
  {
   "cell_type": "code",
   "execution_count": 234,
   "metadata": {},
   "outputs": [],
   "source": [
    "# # load raw data and extract their attributes into csv file\n",
    "# raw_data = pd.read_table(path_to_freq, header=None, sep=\",\", engine='python')\n",
    "\n",
    "# attributes= [\"stamp\", \"temperature\", \"cpu0\", \"cpu1\", \"cpu2\", \"cpu3\", \"cpu4\", \"cpu5\", \"cpu6\", \"cpu7\"]\n",
    "# processed_data = pd.DataFrame(index=attributes)\n",
    "\n",
    "# data = pd.Series([\"nan\"]*10, attributes)\n",
    "\n",
    "# start_time = int(raw_data[0][1].split()[2])\n",
    "\n",
    "# count = 0\n",
    "# for line in raw_data[0]:\n",
    "#     if \"NEW DATA\" in line:\n",
    "#         count = count + 1\n",
    "#         data[\"stamp\"] = int(line.split()[2]) - start_time\n",
    "#     if \"temperature\" in line:\n",
    "#         temp_loc = line.split(\" \").index(\"temperature:\")\n",
    "#         #data[\"temperature\"] = 1\n",
    "#         data[\"temperature\"] = line.split(\" \")[temp_loc + 1]\n",
    "#     for attribute in attributes[2:]: \n",
    "#         if attribute in line:\n",
    "#             data[attribute] = line.split()[1]\n",
    "#     if \"END\" in line:\n",
    "#         processed_data[count] = data\n",
    "#         data[:] = \"nan\"\n",
    "\n",
    "# matrix = processed_data.T\n",
    "\n",
    "# matrix.to_csv(\"./freq_data_redmi_new.csv\")\n",
    "\n",
    "    "
   ]
  },
  {
   "cell_type": "code",
   "execution_count": 105,
   "metadata": {
    "tags": []
   },
   "outputs": [],
   "source": []
  },
  {
   "cell_type": "code",
   "execution_count": null,
   "metadata": {},
   "outputs": [],
   "source": []
  }
 ]
}