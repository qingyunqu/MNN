{
 "metadata": {
  "language_info": {
   "codemirror_mode": {
    "name": "ipython",
    "version": 3
   },
   "file_extension": ".py",
   "mimetype": "text/x-python",
   "name": "python",
   "nbconvert_exporter": "python",
   "pygments_lexer": "ipython3",
   "version": "3.8.3-final"
  },
  "orig_nbformat": 2,
  "kernelspec": {
   "name": "python3",
   "display_name": "Python 3.8.3 64-bit ('base': conda)",
   "metadata": {
    "interpreter": {
     "hash": "343844193ad9896a0364ed42330c14d29d36405516a1ec7d9d95b91a5f830ba8"
    }
   }
  }
 },
 "nbformat": 4,
 "nbformat_minor": 2,
 "cells": [
  {
   "cell_type": "code",
   "execution_count": 2,
   "metadata": {},
   "outputs": [],
   "source": [
    "import pandas as pd\n",
    "import sys\n",
    "import numpy as np"
   ]
  },
  {
   "cell_type": "code",
   "execution_count": 3,
   "metadata": {},
   "outputs": [],
   "source": [
    "# set parameter\n",
    "net_name = [\"Lenet\", \"GoogLenet\", \"Squeezenet\", \"Alexnet\", \"Mobilenet\"]\n",
    "device_name = \"RedmiNote9P\"\n",
    "fre_list = [\"576000\", \"768000\", \"1017600\", \"1248000\", \"1324800\", \"1516800\", \"1612800\", \"1708800\", \"1804800\"]  # Set Frequency in KHz:  没有办法降频到300000\n",
    "freq_big_list=[\"787200\", \"979200\", \"1036800\", \"1248000\", \"1401600\", \"1555200\", \"1766400\", \"1900800\", \"2073600\", \"2131200\", \"2208000\"]\n",
    "# batchsizes = [1, 2, 4, 8, 16]\n",
    "batchsizes = [1, 2, 3, 4, 5, 6, 7, 8]"
   ]
  },
  {
   "cell_type": "code",
   "execution_count": 16,
   "metadata": {
    "tags": []
   },
   "outputs": [
    {
     "output_type": "stream",
     "name": "stdout",
     "text": [
      "Lenet\n",
      "897632967497.1428\n",
      "921430549071.4286\n",
      "996959087256.6666\n",
      "1222844264895.0\n",
      "1205607834843.158\n",
      "GoogLenet\n",
      "1285078179965.4546\n",
      "1393646363479.138\n",
      "1450791334616.1904\n",
      "1580727442220.1135\n",
      "1538754093744.5833\n",
      "Squeezenet\n",
      "1451033395440.4917\n",
      "1568467450745.2703\n",
      "1572913602042.1875\n",
      "1657986595919.1892\n",
      "1635869539970.5715\n",
      "Alexnet\n",
      "1686383367109.608\n",
      "1345752704256.9092\n",
      "1471482069145.532\n",
      "1494079731189.4443\n",
      "1565721796874.0789\n",
      "Mobilenet\n",
      "nan\n",
      "nan\n",
      "nan\n",
      "nan\n",
      "nan\n"
     ]
    }
   ],
   "source": [
    "# 单个freq，不同网络、不同batchsize 训练过程中消耗的能量 p*t p使用所有训练时刻的电压*电流均值（只看usb）减去基准功率（前5条数据的最小值/均值/最大值）t使用end - start ｜stamp\n",
    "df = pd.DataFrame(columns=net_name, index=batchsizes)\n",
    "\n",
    "path_to_baseline = \"./\" + device_name + + \"/processed_data/Lenet/processed_data_Lenet.csv\"\n",
    "perform = pd.read_csv(path_to_baseline, index_col=0)\n",
    "baseline_warmup = 10\n",
    "baseline = int(np.mean(perform.loc[:baseline_warmup][\"usb_current\"])) * int(np.mean(perform.loc[:baseline_warmup][\"usb_voltage\"]))# 日常功率的基准值\n",
    "\n",
    "for net in net_name:\n",
    "    print(net)\n",
    "    for batchsize in batchsizes:\n",
    "        df[net][batchsize] = 0\n",
    "        path_to_stamp = \"./\" + device_name + \"/train_stamp/\" + net + \"/\" + \"train_stamp_\" + str(batchsize) + \".result\" \n",
    "        data = pd.read_table(path_to_stamp, header=None, delimiter=\"\\t\")\n",
    "        for line in data[0]:\n",
    "            if \"Begin training\" in line:\n",
    "                trainStart = int(line.split()[3].split(\"N\")[0])\n",
    "            if \"End trainning\" in line:\n",
    "                trainEnd = int(line.split()[3].split(\"N\")[0])\n",
    "            if \"Begin inferring\" in line:\n",
    "                inferStart = int(line.split()[3].split(\"N\")[0])\n",
    "            if \"End inferring\" in line:\n",
    "                inferEnd = int(line.split()[3].split(\"N\")[0])\n",
    "        path_to_perform = \"./\" + device_name + \"/processed_data/\" + net + \"/processed_data_\" + net + \".csv\"\n",
    "        perform = pd.read_csv(path_to_perform, index_col=0)\n",
    "        #print(perform)\n",
    "        # baseline_warmup = 5\n",
    "        # baseline = int(np.mean(perform.loc[:baseline_warmup][\"usb_current\"])) * int(np.mean(perform.loc[:baseline_warmup][\"usb_voltage\"]))# 日常功率的基准值\n",
    "        P = []\n",
    "        for index in perform.index: # 按行对数据进行遍历\n",
    "            if int(perform.loc[index][\"stamp\"]) > trainStart and int(perform.loc[index][\"stamp\"]) < trainEnd:\n",
    "                # print(perform.loc[index][\"usb_current\"]*perform.loc[index][\"usb_voltage\"])\n",
    "                P.append(perform.loc[index][\"usb_current\"]*perform.loc[index][\"usb_voltage\"]-baseline)\n",
    "        avg_P = np.mean(P)\n",
    "        print(avg_P)\n",
    "        df[net][batchsize] = avg_P * (trainEnd - trainStart)/10**15\n",
    "df.to_csv(\"./batchsize_energy_MEIZU_small.csv\")\n",
    "# print(df)\n",
    "                "
   ]
  },
  {
   "cell_type": "code",
   "execution_count": 1,
   "metadata": {},
   "outputs": [
    {
     "output_type": "error",
     "ename": "NameError",
     "evalue": "name 'pd' is not defined",
     "traceback": [
      "\u001b[0;31m---------------------------------------------------------------------------\u001b[0m",
      "\u001b[0;31mNameError\u001b[0m                                 Traceback (most recent call last)",
      "\u001b[0;32m<ipython-input-1-a6cc69edf1a3>\u001b[0m in \u001b[0;36m<module>\u001b[0;34m\u001b[0m\n\u001b[1;32m      1\u001b[0m \u001b[0;31m# 测单个sample的energy\u001b[0m\u001b[0;34m\u001b[0m\u001b[0;34m\u001b[0m\u001b[0;34m\u001b[0m\u001b[0m\n\u001b[1;32m      2\u001b[0m \u001b[0mdevice_name\u001b[0m \u001b[0;34m=\u001b[0m \u001b[0;34m\"RedmiNote9P_1804800\"\u001b[0m\u001b[0;34m\u001b[0m\u001b[0;34m\u001b[0m\u001b[0m\n\u001b[0;32m----> 3\u001b[0;31m \u001b[0mdf\u001b[0m \u001b[0;34m=\u001b[0m \u001b[0mpd\u001b[0m\u001b[0;34m.\u001b[0m\u001b[0mDataFrame\u001b[0m\u001b[0;34m(\u001b[0m\u001b[0mcolumns\u001b[0m\u001b[0;34m=\u001b[0m\u001b[0mnet_name\u001b[0m\u001b[0;34m,\u001b[0m \u001b[0mindex\u001b[0m\u001b[0;34m=\u001b[0m\u001b[0mbatchsizes\u001b[0m\u001b[0;34m)\u001b[0m\u001b[0;34m\u001b[0m\u001b[0;34m\u001b[0m\u001b[0m\n\u001b[0m\u001b[1;32m      4\u001b[0m \u001b[0;34m\u001b[0m\u001b[0m\n\u001b[1;32m      5\u001b[0m \u001b[0mdata\u001b[0m \u001b[0;34m=\u001b[0m \u001b[0mpd\u001b[0m\u001b[0;34m.\u001b[0m\u001b[0mread_csv\u001b[0m\u001b[0;34m(\u001b[0m\u001b[0;34m\"./batchsize_energy.csv\"\u001b[0m\u001b[0;34m,\u001b[0m \u001b[0mindex_col\u001b[0m\u001b[0;34m=\u001b[0m\u001b[0;36m0\u001b[0m\u001b[0;34m)\u001b[0m\u001b[0;34m\u001b[0m\u001b[0;34m\u001b[0m\u001b[0m\n",
      "\u001b[0;31mNameError\u001b[0m: name 'pd' is not defined"
     ]
    }
   ],
   "source": [
    "# 测单个sample的energy\n",
    "device_name = \"RedmiNote9P_1804800\"\n",
    "df = pd.DataFrame(columns=net_name, index=batchsizes)\n",
    "\n",
    "data = pd.read_csv(\"./batchsize_energy.csv\", index_col=0)\n",
    "\n",
    "# int warmUp = 2;\n",
    "# int measureIterations = 32/BatchSize + 5;\n",
    "# int loops = 1;\n",
    "# if (NetName == \"Lenet\") { measureIterations = 1024/BatchSize + 100; } \n",
    "for batch in batchsizes:\n",
    "    for net in net_name:\n",
    "        if net == \"Lenet\":\n",
    "            batchnum = 2 + 1024/batch + 100 + 1\n",
    "        elif net == \"Mobilenet\":\n",
    "            batchnum = 26\n",
    "        else:\n",
    "            batchnum = 26\n",
    "        df[net][batch] = data[net][batch]/(batchnum*batch)\n",
    "\n",
    "df.to_csv(\"./singleSample_energy.csv\")"
   ]
  },
  {
   "cell_type": "code",
   "execution_count": 7,
   "metadata": {},
   "outputs": [],
   "source": [
    "# 测单个batch的energy\n",
    "device_name = \"RedmiNote9P_1804800\"\n",
    "df = pd.DataFrame(columns=net_name, index=batchsizes)\n",
    "\n",
    "data = pd.read_csv(\"./batchsize_energy.csv\", index_col=0)\n",
    "\n",
    "# int warmUp = 2;\n",
    "# int measureIterations = 32/BatchSize + 5;\n",
    "# int loops = 1;\n",
    "# if (NetName == \"Lenet\") { measureIterations = 1024/BatchSize + 100; } \n",
    "for batch in batchsizes:\n",
    "    for net in net_name:\n",
    "        if net == \"Lenet\":\n",
    "            batchnum = 2 + 1024/batch + 100 + 1\n",
    "        elif net == \"Mobilenet\":\n",
    "            batchnum = 26\n",
    "        else:\n",
    "            batchnum = 26\n",
    "        df[net][batch] = data[net][batch]/(batchnum)\n",
    "\n",
    "df.to_csv(\"./singleBatch_energy.csv\")"
   ]
  }
 ]
}